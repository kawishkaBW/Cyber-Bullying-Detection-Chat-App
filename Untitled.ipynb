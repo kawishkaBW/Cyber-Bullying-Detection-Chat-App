{
 "cells": [
  {
   "cell_type": "code",
   "execution_count": 61,
   "id": "b2be13fc",
   "metadata": {},
   "outputs": [],
   "source": [
    "import pandas as pd\n",
    "import numpy as np\n",
    "from sklearn.model_selection import train_test_split\n",
    "from sklearn.feature_extraction.text import CountVectorizer\n",
    "from sklearn.naive_bayes import MultinomialNB\n",
    "from sklearn.metrics import accuracy_score, precision_score, recall_score, f1_score\n",
    "import nltk\n",
    "from nltk.corpus import stopwords\n",
    "from nltk.stem import PorterStemmer\n",
    "from nltk.tokenize import word_tokenize\n"
   ]
  },
  {
   "cell_type": "code",
   "execution_count": 62,
   "id": "45b5f9c6",
   "metadata": {},
   "outputs": [],
   "source": [
    "# Load the dataset\n",
    "df = pd.read_csv('tweets.csv')\n",
    "# Split the dataset into training and testing sets\n",
    "X_train, X_test, y_train, y_test = train_test_split(df['tweet_text'], df['cyberbullying_type'], random_state=0)\n",
    "# Preprocess the training set\n",
    "stop_words = set(stopwords.words('english'))\n",
    "stemmer = PorterStemmer()"
   ]
  },
  {
   "cell_type": "code",
   "execution_count": 63,
   "id": "192afe6a",
   "metadata": {},
   "outputs": [],
   "source": [
    "def preprocess(text):\n",
    "    # Tokenize the text\n",
    "    words = word_tokenize(text.lower())\n",
    "\n",
    "    # Remove stop words\n",
    "    words = [word for word in words if word not in stop_words]\n",
    "\n",
    "    # Stem the words\n",
    "    words = [stemmer.stem(word) for word in words]\n",
    "\n",
    "    # Join the words back into a string\n",
    "    return ' '.join(words)"
   ]
  },
  {
   "cell_type": "code",
   "execution_count": 64,
   "id": "7a9df53c",
   "metadata": {},
   "outputs": [],
   "source": [
    "X_train = X_train.apply(preprocess)\n",
    "X_test = X_test.apply(preprocess)\n",
    "\n",
    "# Extract features from the data\n",
    "vectorizer = CountVectorizer()\n",
    "X_train = vectorizer.fit_transform(X_train)\n",
    "X_test = vectorizer.transform(X_test)\n",
    "\n",
    "# Train the machine learning algorithm\n",
    "clf = MultinomialNB()\n",
    "clf.fit(X_train, y_train)\n",
    "\n",
    "# Make predictions on the testing set\n",
    "y_pred = clf.predict(X_test)\n",
    "\n",
    "# Convert the predicted labels to \"Cyberbullying\" or \"Not Cyberbullying\"\n",
    "#y_pred = [\"Cyberbullying\" if label == \"Cyberbullying\" else \"Not Cyberbullying\" for label in y_pred]"
   ]
  },
  {
   "cell_type": "code",
   "execution_count": 93,
   "id": "3f5613a5",
   "metadata": {},
   "outputs": [
    {
     "name": "stdout",
     "output_type": "stream",
     "text": [
      "Accuracy: 0.7837792501887109\n"
     ]
    }
   ],
   "source": [
    "# Evaluate the performance of the system\n",
    "print('Accuracy:', accuracy_score(y_test, y_pred))\n",
    "\n",
    "# Input new phrase\n",
    "new_phrase = \"hello\""
   ]
  },
  {
   "cell_type": "code",
   "execution_count": 94,
   "id": "41bbe525",
   "metadata": {},
   "outputs": [
    {
     "name": "stdout",
     "output_type": "stream",
     "text": [
      "not_cyberbullying\n"
     ]
    }
   ],
   "source": [
    "# Preprocess and extract features from the new phrase\n",
    "new_phrase = preprocess(new_phrase)\n",
    "new_phrase_features = vectorizer.transform([new_phrase])\n",
    "\n",
    "# Predict the label of the new phrase\n",
    "new_phrase_pred = clf.predict(new_phrase_features)\n",
    "\n",
    "# Convert the predicted label to \"Cyberbullying\" or \"Not Cyberbullying\"\n",
    "new_phrase_pred = \"not_cyberbullying\" if new_phrase_pred[0] == \"not_cyberbullying\" else \"cyberbullying\"\n",
    "\n",
    "print(new_phrase_pred)"
   ]
  },
  {
   "cell_type": "code",
   "execution_count": null,
   "id": "dd62bfef",
   "metadata": {},
   "outputs": [],
   "source": []
  }
 ],
 "metadata": {
  "kernelspec": {
   "display_name": "Python 3 (ipykernel)",
   "language": "python",
   "name": "python3"
  },
  "language_info": {
   "codemirror_mode": {
    "name": "ipython",
    "version": 3
   },
   "file_extension": ".py",
   "mimetype": "text/x-python",
   "name": "python",
   "nbconvert_exporter": "python",
   "pygments_lexer": "ipython3",
   "version": "3.11.0"
  }
 },
 "nbformat": 4,
 "nbformat_minor": 5
}
